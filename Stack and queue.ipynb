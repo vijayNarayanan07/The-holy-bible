{
 "cells": [
  {
   "cell_type": "markdown",
   "id": "f3edcfc9-ff17-47ba-954d-df5e64c6e3d9",
   "metadata": {},
   "source": [
    "# STACK"
   ]
  },
  {
   "cell_type": "markdown",
   "id": "ce08dbf3-85ef-401e-81de-6cc4dee52020",
   "metadata": {},
   "source": [
    "#Stack is a linear data structure that follows the LIFO principle which means Last in First Out"
   ]
  },
  {
   "cell_type": "markdown",
   "id": "ce1afa48-3936-4deb-be43-2b76c723d65e",
   "metadata": {},
   "source": [
    "#Basic Operations on Stack:\n",
    "\n",
    "#push():- This is a method to insert an element into the stack\n",
    "#pop():- This is a method to remove an element from the stack\n",
    "#top():- This is a method that returns the top element of the stack.\n",
    "#isEmpty():- This is a method that returns true if the stack is empty else false.\n",
    "#size():- This is a method that returns the size of the stack."
   ]
  },
  {
   "cell_type": "code",
   "execution_count": 13,
   "id": "d6067aba-7673-449a-8995-3a8773fc6a9b",
   "metadata": {},
   "outputs": [
    {
     "name": "stdout",
     "output_type": "stream",
     "text": [
      "The Stack items are:\n",
      "1\n",
      "2\n",
      "3\n"
     ]
    }
   ],
   "source": [
    "\"\"\"\n",
    " Algorithm Name = 'Stack using push()'\n",
    "  Date = 23/08/24\n",
    " Author Name = Vijay Narayanan\n",
    "\"\"\"\n",
    "\n",
    "# Define the push function\n",
    "def push(stack, element):\n",
    "    stack.append(element)\n",
    "\n",
    "# Create an empty stack\n",
    "stack = []\n",
    "\n",
    "# Push elements into the stack using the push function\n",
    "push(stack, 1)\n",
    "push(stack, 2)\n",
    "push(stack, 3)\n",
    "\n",
    "# Print the stack items\n",
    "print(\"The Stack items are:\")\n",
    "for i in stack:\n",
    "    print(i)"
   ]
  },
  {
   "cell_type": "code",
   "execution_count": 15,
   "id": "7c7b9d1b-0f2e-47e3-a26a-d17931af6f45",
   "metadata": {},
   "outputs": [
    {
     "name": "stdout",
     "output_type": "stream",
     "text": [
      "Initial Stack\n",
      "[1, 2, 3]\n",
      "Popped Element:  3\n"
     ]
    }
   ],
   "source": [
    "\"\"\"\n",
    " Algorithm Name = 'Stack using pop()'\n",
    "  Date = 23/08/24\n",
    " Author Name = Vijay Narayanan\n",
    "\"\"\"\n",
    "stack = []\n",
    " \n",
    "def pop(stack):\n",
    "    if len(stack) == 0:\n",
    "        return None\n",
    "    else:\n",
    "        return stack.pop()\n",
    " \n",
    "# Pushing the elements in the list\n",
    "stack.append(1)\n",
    "stack.append(2)\n",
    "stack.append(3)\n",
    " \n",
    "print(\"Initial Stack\")\n",
    "print(stack)\n",
    " \n",
    "print(\"Popped Element: \", pop(stack))"
   ]
  },
  {
   "cell_type": "code",
   "execution_count": 17,
   "id": "f8cb16a2-2e6e-434b-b841-69e246c37e6f",
   "metadata": {},
   "outputs": [
    {
     "name": "stdout",
     "output_type": "stream",
     "text": [
      "Top Element of Stack is :  3\n"
     ]
    }
   ],
   "source": [
    "\"\"\"\n",
    " Algorithm Name = 'Stack using top()'\n",
    "  Date = 23/08/24\n",
    " Author Name = Vijay Nararyanan\n",
    "\"\"\"\n",
    "stack = []\n",
    " \n",
    "def top():\n",
    "    if len(stack) == 0:  #It checks whether the stack is empty and if it is empty then it returns none \n",
    "        return None  \n",
    "    return stack[-1] #If it is not empty it will return last element\n",
    " \n",
    " \n",
    "# Pushing the elements in the list\n",
    "stack.append(1)\n",
    "stack.append(2)\n",
    "stack.append(3)\n",
    " \n",
    "print(\"Top Element of Stack is : \", top())"
   ]
  },
  {
   "cell_type": "code",
   "execution_count": 23,
   "id": "50a50312-05a5-418e-b8f2-482fd8e11ce4",
   "metadata": {},
   "outputs": [
    {
     "name": "stdout",
     "output_type": "stream",
     "text": [
      "0\n"
     ]
    }
   ],
   "source": [
    "\"\"\"\n",
    " Algorithm Name = 'Stack using is_empty()'\n",
    "  Date = 23/08/24\n",
    " Author Name = Vijay Narayanan\n",
    "\"\"\"\n",
    "stack = []\n",
    "def is_empty():\n",
    "    if len(stack) == 0:\n",
    "        return 1\n",
    "    else:\n",
    "        return 0\n",
    " \n",
    " \n",
    "# Pushing the elements in the list\n",
    "stack.append(1)\n",
    "stack.append(2)\n",
    "stack.append(3)\n",
    " \n",
    "print( is_empty())"
   ]
  },
  {
   "cell_type": "markdown",
   "id": "85f80b84-9d67-44bb-b8e4-ef1a63caca03",
   "metadata": {},
   "source": [
    "# QUEUE"
   ]
  },
  {
   "cell_type": "code",
   "execution_count": 25,
   "id": "e86d7166-6a03-4009-857a-7b8f6013d6ee",
   "metadata": {},
   "outputs": [
    {
     "name": "stdout",
     "output_type": "stream",
     "text": [
      "10\n",
      "1\n",
      "34\n",
      "56\n"
     ]
    }
   ],
   "source": [
    "\"\"\"\n",
    " Algorithm Name = 'Queue'\n",
    " Date = 23/08/24\n",
    " Author Name = Vijay Narayanan\n",
    "\"\"\"\n",
    "class Queue(object): #Implementation of a queue in python.\n",
    "    \n",
    "    queue_data = [] # Empty list to store the data for the queue.\n",
    "\n",
    "    def push(self, value:object)->None:\n",
    "        \"\"\"\n",
    "            Pushes/adds a value to end of the queue.\n",
    "            1. value - object - A value of any datatype that needs to be stored\n",
    "            in the queue.\n",
    "        \"\"\"\n",
    "        self.queue_data.append(value)\n",
    "    \n",
    "    def pop(self)->None: #  Pops/removes a value from the end of the queue.\n",
    "       \n",
    "        self.queue_data.pop(0)\n",
    "\n",
    "    def display_queue(self)->None: #Displays the elements present in the queue by printing each element.\n",
    "       \n",
    "        for value in self.queue_data:\n",
    "            print(value)\n",
    "\n",
    "\n",
    "def main():\n",
    "    \"\"\"\n",
    "        The main function of the program.\n",
    "    \"\"\"\n",
    "    queue_obj = Queue() # Creating the queue object.\n",
    "    queue_obj.display_queue() # Seeing the contents of the queue.\n",
    "    # Adding values to the queue:\n",
    "    queue_obj.push(10)\n",
    "    queue_obj.push(1)\n",
    "    queue_obj.push(34)\n",
    "    queue_obj.push(56)\n",
    "    queue_obj.display_queue() # Seeing the contents of the queue.\n",
    "    queue_obj.pop() # Poping a value from the queue.\n",
    "    queue_obj.pop() # Poping a value from the queue.\n",
    "    return None\n",
    "\n",
    "\n",
    "if __name__ == \"__main__\":\n",
    "    main()"
   ]
  },
  {
   "cell_type": "code",
   "execution_count": null,
   "id": "9e05e3dd-6672-4f45-a2bf-62bad3c13914",
   "metadata": {},
   "outputs": [],
   "source": []
  }
 ],
 "metadata": {
  "kernelspec": {
   "display_name": "Python 3 (ipykernel)",
   "language": "python",
   "name": "python3"
  },
  "language_info": {
   "codemirror_mode": {
    "name": "ipython",
    "version": 3
   },
   "file_extension": ".py",
   "mimetype": "text/x-python",
   "name": "python",
   "nbconvert_exporter": "python",
   "pygments_lexer": "ipython3",
   "version": "3.12.4"
  }
 },
 "nbformat": 4,
 "nbformat_minor": 5
}
